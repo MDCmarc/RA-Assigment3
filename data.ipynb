{
 "cells": [
  {
   "cell_type": "code",
   "execution_count": 22,
   "metadata": {},
   "outputs": [],
   "source": [
    "import os\n",
    "import pandas as pd\n",
    "import numpy as np\n",
    "import matplotlib.pyplot as plt\n",
    "import subprocess\n",
    "import re\n"
   ]
  },
  {
   "cell_type": "code",
   "execution_count": null,
   "metadata": {},
   "outputs": [],
   "source": [
    "path = \"midsummer-nights-dream.txt\"\n",
    "params = [16, 32, 64, 128, 256, 512]\n",
    "num_executions = 10000\n",
    "\n",
    "results = {param: {\"REC\": [], \"HLL\": [], \"PCSA\": []} for param in params}\n",
    "\n",
    "\n",
    "for param in params:\n",
    "    for seed in range(1, num_executions + 1):\n",
    "        # Run the command with subprocess\n",
    "        p = subprocess.run([\"./Cardinality\", \"-f\", path, \"-p\", str(param), \"--seed\", str(seed)], capture_output=True, text=True)\n",
    "\n",
    "        if p.returncode == 0:\n",
    "            for line in p.stdout.splitlines():\n",
    "                if line.startswith(\"Recordinality\"):\n",
    "                    results[param][\"REC\"].append(float(line.split(\": \")[1]))\n",
    "                elif line.startswith(\"HyperLogLog\"):\n",
    "                    results[param][\"HLL\"].append(float(line.split(\": \")[1]))\n",
    "                elif line.startswith(\"Probabilistic Counting\"):\n",
    "                    results[param][\"PCSA\"].append(float(line.split(\": \")[1]))\n",
    "        else:\n",
    "            print(f\"Error with seed {seed} and param {param}: {p.stderr}\")\n"
   ]
  },
  {
   "cell_type": "code",
   "execution_count": 27,
   "metadata": {},
   "outputs": [
    {
     "name": "stdout",
     "output_type": "stream",
     "text": [
      "\\textbf{16} & 3146 & 0.55\\% & 3141 & 0.27\\% & 3207 & 0.20\\% \\\\ \\hline\n",
      "\\textbf{32} & 3132 & 0.34\\% & 3135 & 0.19\\% & 3179 & 0.14\\% \\\\ \\hline\n",
      "\\textbf{64} & 3162 & 0.22\\% & 3146 & 0.13\\% & 3161 & 0.10\\% \\\\ \\hline\n",
      "\\textbf{128} & 3163 & 0.13\\% & 3152 & 0.09\\% & 3151 & 0.07\\% \\\\ \\hline\n",
      "\\textbf{256} & 3140 & 0.08\\% & 3145 & 0.06\\% & 3143 & 0.04\\% \\\\ \\hline\n",
      "\\textbf{512} & 3138 & 0.04\\% & 3141 & 0.04\\% & 3158 & 0.03\\% \\\\ \\hline\n",
      "\n"
     ]
    }
   ],
   "source": [
    "averages = {}\n",
    "for param in params:\n",
    "    averages[param] = {\n",
    "        algo: np.mean(scores) for algo, scores in results[param].items()\n",
    "    }\n",
    "\n",
    "latex_output = \"\"\n",
    "with open(\"datasets/\" + path.split('.')[0] + \".dat\", 'r') as file:\n",
    "    lines = file.readlines()\n",
    "    line_count = len(lines)\n",
    "    latex_output = \"\"\n",
    "\n",
    "    for param, scores in averages.items():\n",
    "        row = f\"\\\\textbf{{{param}}}\"\n",
    "        for algo, avg in scores.items():\n",
    "            error = np.std(results[param][algo], ddof=0) / line_count\n",
    "            # error = abs(avg - line_count) / line_count * 100\n",
    "            row += f\" & {avg:.0f} & {error:.2f}\\%\"\n",
    "        latex_output += row + \" \\\\\\\\ \\\\hline\\n\"\n",
    "\n",
    "print(latex_output)"
   ]
  }
 ],
 "metadata": {
  "kernelspec": {
   "display_name": "Python 3",
   "language": "python",
   "name": "python3"
  },
  "language_info": {
   "codemirror_mode": {
    "name": "ipython",
    "version": 3
   },
   "file_extension": ".py",
   "mimetype": "text/x-python",
   "name": "python",
   "nbconvert_exporter": "python",
   "pygments_lexer": "ipython3",
   "version": "3.10.12"
  }
 },
 "nbformat": 4,
 "nbformat_minor": 2
}
